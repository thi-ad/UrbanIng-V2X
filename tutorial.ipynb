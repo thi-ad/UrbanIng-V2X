{
 "cells": [
  {
   "cell_type": "markdown",
   "id": "a419fcd94a5fb6e2",
   "metadata": {},
   "source": [
    "Accessing the dataset"
   ]
  },
  {
   "cell_type": "code",
   "execution_count": 2,
   "id": "55dee9949f6f89c",
   "metadata": {
    "jupyter": {
     "is_executing": true
    }
   },
   "outputs": [
    {
     "name": "stdout",
     "output_type": "stream",
     "text": [
      "34\n"
     ]
    }
   ],
   "source": [
    "from urbaning import Dataset\n",
    "\n",
    "# load the complete dataset\n",
    "root_folder = \"/thinkmate_ainin/THI_dataset/FINAL_Cooperative_Perception_Dataset_v0\"\n",
    "dataset = Dataset(root_folder)\n",
    "# number of total sequences\n",
    "print(len(dataset))"
   ]
  },
  {
   "cell_type": "markdown",
   "id": "a01c51b7d7a1c76c",
   "metadata": {},
   "source": [
    "Accessing a sequence"
   ]
  },
  {
   "cell_type": "code",
   "execution_count": 3,
   "id": "5f2db0c6fc2e9fb0",
   "metadata": {
    "jupyter": {
     "is_executing": true
    }
   },
   "outputs": [
    {
     "name": "stdout",
     "output_type": "stream",
     "text": [
      "<class 'urbaning.data.sequence.Sequence'>\n",
      "20241126_0024_crossing1_18\n"
     ]
    }
   ],
   "source": [
    "# use indexing from the dataset\n",
    "index = 10\n",
    "# a Sequence instance\n",
    "print(type(dataset[index]))\n",
    "# or simple iterate over the dataset\n",
    "for sequence in dataset:\n",
    "    print(sequence.sequence_name)\n",
    "    break\n",
    "\n",
    "# you can also load one sequence manually\n",
    "from urbaning.data import Sequence\n",
    "# sequence to load\n",
    "sequence_name = \"20241127_0000_crossing1_00\"\n",
    "# load the sequence\n",
    "sequence = Sequence(root_folder, sequence_name)"
   ]
  },
  {
   "cell_type": "markdown",
   "id": "f2bc0f893af83080",
   "metadata": {},
   "source": [
    "Accessing a frame"
   ]
  },
  {
   "cell_type": "code",
   "execution_count": 6,
   "id": "d01a5a0c0e9b3270",
   "metadata": {},
   "outputs": [
    {
     "name": "stdout",
     "output_type": "stream",
     "text": [
      "<class 'urbaning.data.frame.Frame'>\n",
      "1732711751.0\n"
     ]
    }
   ],
   "source": [
    "# use indexing from the sequence\n",
    "index = 10\n",
    "# a Frame instance\n",
    "print(type(sequence[index]))\n",
    "# or simple iterate over the sequence\n",
    "for frame in sequence:\n",
    "    # this frame timestamp\n",
    "    print(frame.timestamp)\n",
    "    break"
   ]
  },
  {
   "cell_type": "markdown",
   "id": "6628d752e16dd46c",
   "metadata": {},
   "source": "Accessing a infrastructure data"
  },
  {
   "cell_type": "code",
   "execution_count": 7,
   "id": "3efc14d47f06438f",
   "metadata": {},
   "outputs": [
    {
     "name": "stdout",
     "output_type": "stream",
     "text": [
      "<class 'urbaning.data.vehicle.Vehicle'>\n"
     ]
    }
   ],
   "source": [
    "# iterate over the dictionary of infrastructures in the frame\n",
    "for crossing_name in frame.infrastructures:\n",
    "    # access the infrastructure data\n",
    "    infrastructure = frame.infrastructures[crossing_name]\n",
    "    # a Infrastructure instance\n",
    "    print(type(infrastructure))\n",
    "    break\n"
   ]
  },
  {
   "cell_type": "markdown",
   "id": "354040c8ce6c5393",
   "metadata": {},
   "source": "Accessing a vehicle data"
  },
  {
   "metadata": {},
   "cell_type": "code",
   "outputs": [],
   "execution_count": null,
   "source": [
    "# iterate over the dictionary of vehicles in the frame\n",
    "for vehicle_name in frame.vehicles:\n",
    "    # access the infrastructure data\n",
    "    vehicle = frame.vehicles[vehicle_name]\n",
    "    # a Vehicle instance\n",
    "    print(type(vehicle))\n",
    "    break"
   ],
   "id": "891849a5f75722b9"
  },
  {
   "metadata": {},
   "cell_type": "markdown",
   "source": "Accessing a camera data",
   "id": "35aab5179d7e987f"
  },
  {
   "metadata": {},
   "cell_type": "code",
   "outputs": [],
   "execution_count": null,
   "source": [
    "# iterate over the dictionary of cameras in the vehicle\n",
    "for camera_name in vehicle.cameras:\n",
    "    # access the"
   ],
   "id": "a31ab2c95c2142a8"
  }
 ],
 "metadata": {
  "kernelspec": {
   "display_name": "Python 3 (ipykernel)",
   "language": "python",
   "name": "python3"
  },
  "language_info": {
   "codemirror_mode": {
    "name": "ipython",
    "version": 3
   },
   "file_extension": ".py",
   "mimetype": "text/x-python",
   "name": "python",
   "nbconvert_exporter": "python",
   "pygments_lexer": "ipython3",
   "version": "3.10.12"
  }
 },
 "nbformat": 4,
 "nbformat_minor": 5
}
